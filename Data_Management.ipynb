{
  "nbformat": 4,
  "nbformat_minor": 0,
  "metadata": {
    "kernelspec": {
      "name": "python3",
      "display_name": "Python 3"
    },
    "language_info": {
      "codemirror_mode": {
        "name": "ipython",
        "version": 3
      },
      "file_extension": ".py",
      "mimetype": "text/x-python",
      "name": "python",
      "nbconvert_exporter": "python",
      "pygments_lexer": "ipython3",
      "version": "3.7.4"
    },
    "colab": {
      "name": "Data Management",
      "provenance": [],
      "machine_shape": "hm",
      "include_colab_link": true
    },
    "accelerator": "GPU"
  },
  "cells": [
    {
      "cell_type": "markdown",
      "metadata": {
        "id": "view-in-github",
        "colab_type": "text"
      },
      "source": [
        "<a href=\"https://colab.research.google.com/github/AmigoPivo/dbm-project/blob/master/Data_Management.ipynb\" target=\"_parent\"><img src=\"https://colab.research.google.com/assets/colab-badge.svg\" alt=\"Open In Colab\"/></a>"
      ]
    },
    {
      "cell_type": "code",
      "metadata": {
        "id": "38Y-UarS3Te7",
        "colab_type": "code",
        "colab": {}
      },
      "source": [
        "import pandas as pd\n",
        "import matplotlib.pyplot as plt"
      ],
      "execution_count": 0,
      "outputs": []
    },
    {
      "cell_type": "code",
      "metadata": {
        "id": "5eWNYlCO3TfC",
        "colab_type": "code",
        "outputId": "0af9d357-90a3-452c-8799-641e161cb4e5",
        "colab": {
          "base_uri": "https://localhost:8080/",
          "height": 123
        }
      },
      "source": [
        "#PATH = \"G:/My Drive/UT MSBA/Fall 2019/Data Management/Project/\"\n",
        "from google.colab import drive\n",
        "drive.mount('/content/drive')\n",
        "PATH = \"/content/drive/My Drive/UT MSBA/Fall 2019/Data Management/Project/\"\n",
        "data150 = pd.read_csv(PATH+'winemag-data_first150k.csv')"
      ],
      "execution_count": 2,
      "outputs": [
        {
          "output_type": "stream",
          "text": [
            "Go to this URL in a browser: https://accounts.google.com/o/oauth2/auth?client_id=947318989803-6bn6qk8qdgf4n4g3pfee6491hc0brc4i.apps.googleusercontent.com&redirect_uri=urn%3Aietf%3Awg%3Aoauth%3A2.0%3Aoob&scope=email%20https%3A%2F%2Fwww.googleapis.com%2Fauth%2Fdocs.test%20https%3A%2F%2Fwww.googleapis.com%2Fauth%2Fdrive%20https%3A%2F%2Fwww.googleapis.com%2Fauth%2Fdrive.photos.readonly%20https%3A%2F%2Fwww.googleapis.com%2Fauth%2Fpeopleapi.readonly&response_type=code\n",
            "\n",
            "Enter your authorization code:\n",
            "··········\n",
            "Mounted at /content/drive\n"
          ],
          "name": "stdout"
        }
      ]
    },
    {
      "cell_type": "code",
      "metadata": {
        "id": "wDOSW8my3TfG",
        "colab_type": "code",
        "outputId": "395f3b33-6f71-4309-9ef5-ff69b23535b7",
        "colab": {
          "base_uri": "https://localhost:8080/",
          "height": 34
        }
      },
      "source": [
        "data150.shape"
      ],
      "execution_count": 3,
      "outputs": [
        {
          "output_type": "execute_result",
          "data": {
            "text/plain": [
              "(150930, 11)"
            ]
          },
          "metadata": {
            "tags": []
          },
          "execution_count": 3
        }
      ]
    },
    {
      "cell_type": "code",
      "metadata": {
        "id": "xvxeYp933TfN",
        "colab_type": "code",
        "outputId": "d56fa552-07ad-4447-b9b4-152ab53428ad",
        "colab": {
          "base_uri": "https://localhost:8080/",
          "height": 202
        }
      },
      "source": [
        "data150.head()"
      ],
      "execution_count": 4,
      "outputs": [
        {
          "output_type": "execute_result",
          "data": {
            "text/html": [
              "<div>\n",
              "<style scoped>\n",
              "    .dataframe tbody tr th:only-of-type {\n",
              "        vertical-align: middle;\n",
              "    }\n",
              "\n",
              "    .dataframe tbody tr th {\n",
              "        vertical-align: top;\n",
              "    }\n",
              "\n",
              "    .dataframe thead th {\n",
              "        text-align: right;\n",
              "    }\n",
              "</style>\n",
              "<table border=\"1\" class=\"dataframe\">\n",
              "  <thead>\n",
              "    <tr style=\"text-align: right;\">\n",
              "      <th></th>\n",
              "      <th>id</th>\n",
              "      <th>country</th>\n",
              "      <th>description</th>\n",
              "      <th>designation</th>\n",
              "      <th>points</th>\n",
              "      <th>price</th>\n",
              "      <th>province</th>\n",
              "      <th>region_1</th>\n",
              "      <th>region_2</th>\n",
              "      <th>variety</th>\n",
              "      <th>winery</th>\n",
              "    </tr>\n",
              "  </thead>\n",
              "  <tbody>\n",
              "    <tr>\n",
              "      <th>0</th>\n",
              "      <td>0</td>\n",
              "      <td>US</td>\n",
              "      <td>This tremendous 100% varietal wine hails from ...</td>\n",
              "      <td>Martha's Vineyard</td>\n",
              "      <td>96</td>\n",
              "      <td>235.0</td>\n",
              "      <td>California</td>\n",
              "      <td>Napa Valley</td>\n",
              "      <td>Napa</td>\n",
              "      <td>Cabernet Sauvignon</td>\n",
              "      <td>Heitz</td>\n",
              "    </tr>\n",
              "    <tr>\n",
              "      <th>1</th>\n",
              "      <td>1</td>\n",
              "      <td>Spain</td>\n",
              "      <td>Ripe aromas of fig, blackberry and cassis are ...</td>\n",
              "      <td>Carodorum Selección Especial Reserva</td>\n",
              "      <td>96</td>\n",
              "      <td>110.0</td>\n",
              "      <td>Northern Spain</td>\n",
              "      <td>Toro</td>\n",
              "      <td>NaN</td>\n",
              "      <td>Tinta de Toro</td>\n",
              "      <td>Bodega Carmen Rodríguez</td>\n",
              "    </tr>\n",
              "    <tr>\n",
              "      <th>2</th>\n",
              "      <td>2</td>\n",
              "      <td>US</td>\n",
              "      <td>Mac Watson honors the memory of a wine once ma...</td>\n",
              "      <td>Special Selected Late Harvest</td>\n",
              "      <td>96</td>\n",
              "      <td>90.0</td>\n",
              "      <td>California</td>\n",
              "      <td>Knights Valley</td>\n",
              "      <td>Sonoma</td>\n",
              "      <td>Sauvignon Blanc</td>\n",
              "      <td>Macauley</td>\n",
              "    </tr>\n",
              "    <tr>\n",
              "      <th>3</th>\n",
              "      <td>3</td>\n",
              "      <td>US</td>\n",
              "      <td>This spent 20 months in 30% new French oak, an...</td>\n",
              "      <td>Reserve</td>\n",
              "      <td>96</td>\n",
              "      <td>65.0</td>\n",
              "      <td>Oregon</td>\n",
              "      <td>Willamette Valley</td>\n",
              "      <td>Willamette Valley</td>\n",
              "      <td>Pinot Noir</td>\n",
              "      <td>Ponzi</td>\n",
              "    </tr>\n",
              "    <tr>\n",
              "      <th>4</th>\n",
              "      <td>4</td>\n",
              "      <td>France</td>\n",
              "      <td>This is the top wine from La Bégude, named aft...</td>\n",
              "      <td>La Brûlade</td>\n",
              "      <td>95</td>\n",
              "      <td>66.0</td>\n",
              "      <td>Provence</td>\n",
              "      <td>Bandol</td>\n",
              "      <td>NaN</td>\n",
              "      <td>Provence red blend</td>\n",
              "      <td>Domaine de la Bégude</td>\n",
              "    </tr>\n",
              "  </tbody>\n",
              "</table>\n",
              "</div>"
            ],
            "text/plain": [
              "   id country  ...             variety                   winery\n",
              "0   0      US  ...  Cabernet Sauvignon                    Heitz\n",
              "1   1   Spain  ...       Tinta de Toro  Bodega Carmen Rodríguez\n",
              "2   2      US  ...     Sauvignon Blanc                 Macauley\n",
              "3   3      US  ...          Pinot Noir                    Ponzi\n",
              "4   4  France  ...  Provence red blend     Domaine de la Bégude\n",
              "\n",
              "[5 rows x 11 columns]"
            ]
          },
          "metadata": {
            "tags": []
          },
          "execution_count": 4
        }
      ]
    },
    {
      "cell_type": "code",
      "metadata": {
        "id": "foDXkP6P3TfQ",
        "colab_type": "code",
        "outputId": "2b115645-8525-4b1c-8478-31cfc8908ab9",
        "colab": {
          "base_uri": "https://localhost:8080/",
          "height": 207
        }
      },
      "source": [
        "for i in data150.columns:\n",
        "    print(i,\": \",round(sum(data150[i].isna())/len(data150[i]),2)*100)"
      ],
      "execution_count": 5,
      "outputs": [
        {
          "output_type": "stream",
          "text": [
            "id :  0.0\n",
            "country :  0.0\n",
            "description :  0.0\n",
            "designation :  30.0\n",
            "points :  0.0\n",
            "price :  9.0\n",
            "province :  0.0\n",
            "region_1 :  17.0\n",
            "region_2 :  60.0\n",
            "variety :  0.0\n",
            "winery :  0.0\n"
          ],
          "name": "stdout"
        }
      ]
    },
    {
      "cell_type": "code",
      "metadata": {
        "id": "2reiJAEp3TfT",
        "colab_type": "code",
        "outputId": "71e671eb-f948-4e66-8270-5fca472c100e",
        "colab": {
          "base_uri": "https://localhost:8080/",
          "height": 207
        }
      },
      "source": [
        "data150.country.value_counts().head(10)"
      ],
      "execution_count": 6,
      "outputs": [
        {
          "output_type": "execute_result",
          "data": {
            "text/plain": [
              "US             62397\n",
              "Italy          23478\n",
              "France         21098\n",
              "Spain           8268\n",
              "Chile           5816\n",
              "Argentina       5631\n",
              "Portugal        5322\n",
              "Australia       4957\n",
              "New Zealand     3320\n",
              "Austria         3057\n",
              "Name: country, dtype: int64"
            ]
          },
          "metadata": {
            "tags": []
          },
          "execution_count": 6
        }
      ]
    },
    {
      "cell_type": "code",
      "metadata": {
        "id": "OQkwttcj3TfW",
        "colab_type": "code",
        "outputId": "ac0e7894-4cef-4637-ae0a-9b3a7d0b9e6a",
        "colab": {
          "base_uri": "https://localhost:8080/",
          "height": 207
        }
      },
      "source": [
        "data150.country.value_counts().tail(10)"
      ],
      "execution_count": 7,
      "outputs": [
        {
          "output_type": "execute_result",
          "data": {
            "text/plain": [
              "Bosnia and Herzegovina    4\n",
              "Switzerland               4\n",
              "China                     3\n",
              "Slovakia                  3\n",
              "Egypt                     3\n",
              "Montenegro                2\n",
              "Albania                   2\n",
              "Tunisia                   2\n",
              "Japan                     2\n",
              "US-France                 1\n",
              "Name: country, dtype: int64"
            ]
          },
          "metadata": {
            "tags": []
          },
          "execution_count": 7
        }
      ]
    },
    {
      "cell_type": "code",
      "metadata": {
        "id": "EVAVj-wr3TfY",
        "colab_type": "code",
        "outputId": "da4df954-0d8e-4d87-cac8-42364523dccf",
        "colab": {
          "base_uri": "https://localhost:8080/",
          "height": 398
        }
      },
      "source": [
        "data150['points'].value_counts()"
      ],
      "execution_count": 8,
      "outputs": [
        {
          "output_type": "execute_result",
          "data": {
            "text/plain": [
              "87     20747\n",
              "88     17871\n",
              "90     15973\n",
              "86     15573\n",
              "89     12921\n",
              "85     12411\n",
              "84     10708\n",
              "91     10536\n",
              "92      9241\n",
              "83      6048\n",
              "93      6017\n",
              "82      4041\n",
              "94      3462\n",
              "95      1716\n",
              "81      1502\n",
              "80       898\n",
              "96       695\n",
              "97       365\n",
              "98       131\n",
              "99        50\n",
              "100       24\n",
              "Name: points, dtype: int64"
            ]
          },
          "metadata": {
            "tags": []
          },
          "execution_count": 8
        }
      ]
    },
    {
      "cell_type": "code",
      "metadata": {
        "id": "F3fBC3nd3Tfb",
        "colab_type": "code",
        "outputId": "e66c4964-7fd9-4651-8057-e9e95e1fd254",
        "colab": {
          "base_uri": "https://localhost:8080/",
          "height": 525
        }
      },
      "source": [
        "plt.hist(data150[data150['price']<300].price, bins = 30)"
      ],
      "execution_count": 9,
      "outputs": [
        {
          "output_type": "execute_result",
          "data": {
            "text/plain": [
              "(array([2.2958e+04, 4.2819e+04, 2.6087e+04, 1.6045e+04, 1.0699e+04,\n",
              "        5.8250e+03, 3.5220e+03, 2.8730e+03, 1.6680e+03, 1.3100e+03,\n",
              "        4.9600e+02, 4.3100e+02, 5.3800e+02, 2.8000e+02, 3.4300e+02,\n",
              "        1.0300e+02, 1.1300e+02, 1.5000e+02, 5.1000e+01, 1.4900e+02,\n",
              "        5.1000e+01, 4.6000e+01, 8.2000e+01, 3.0000e+01, 3.5000e+01,\n",
              "        6.8000e+01, 3.2000e+01, 3.9000e+01, 2.6000e+01, 1.8000e+01]),\n",
              " array([  4.        ,  13.83333333,  23.66666667,  33.5       ,\n",
              "         43.33333333,  53.16666667,  63.        ,  72.83333333,\n",
              "         82.66666667,  92.5       , 102.33333333, 112.16666667,\n",
              "        122.        , 131.83333333, 141.66666667, 151.5       ,\n",
              "        161.33333333, 171.16666667, 181.        , 190.83333333,\n",
              "        200.66666667, 210.5       , 220.33333333, 230.16666667,\n",
              "        240.        , 249.83333333, 259.66666667, 269.5       ,\n",
              "        279.33333333, 289.16666667, 299.        ]),\n",
              " <a list of 30 Patch objects>)"
            ]
          },
          "metadata": {
            "tags": []
          },
          "execution_count": 9
        },
        {
          "output_type": "display_data",
          "data": {
            "image/png": "[encoded data removed]",
            "text/plain": [
              "<Figure size 432x288 with 1 Axes>"
            ]
          },
          "metadata": {
            "tags": []
          }
        }
      ]
    },
    {
      "cell_type": "code",
      "metadata": {
        "id": "v0XDn9Nb3Tfd",
        "colab_type": "code",
        "outputId": "0c5312d1-5fee-4920-e62f-e3a95af48a4f",
        "colab": {
          "base_uri": "https://localhost:8080/",
          "height": 334
        }
      },
      "source": [
        "plt.hist(data150.points)"
      ],
      "execution_count": 10,
      "outputs": [
        {
          "output_type": "execute_result",
          "data": {
            "text/plain": [
              "(array([ 2400., 10089., 23119., 36320., 30792., 26509., 15258.,  5178.,\n",
              "         1060.,   205.]),\n",
              " array([ 80.,  82.,  84.,  86.,  88.,  90.,  92.,  94.,  96.,  98., 100.]),\n",
              " <a list of 10 Patch objects>)"
            ]
          },
          "metadata": {
            "tags": []
          },
          "execution_count": 10
        },
        {
          "output_type": "display_data",
          "data": {
            "image/png": "[encoded data removed]",
            "text/plain": [
              "<Figure size 432x288 with 1 Axes>"
            ]
          },
          "metadata": {
            "tags": []
          }
        }
      ]
    },
    {
      "cell_type": "code",
      "metadata": {
        "id": "dE6CmTav3Tff",
        "colab_type": "code",
        "colab": {}
      },
      "source": [
        "data150['rating'] = 'bad'\n",
        "data150.loc[data150['points'].astype(int) > 87.5,'rating'] = 'neutral'\n",
        "data150.loc[data150['points'].astype(int) > 90,'rating'] = 'good'"
      ],
      "execution_count": 0,
      "outputs": []
    },
    {
      "cell_type": "code",
      "metadata": {
        "id": "qADPfRJi3Tfg",
        "colab_type": "code",
        "outputId": "50015d8b-5ea1-4033-b559-63548d820ac5",
        "colab": {
          "base_uri": "https://localhost:8080/",
          "height": 86
        }
      },
      "source": [
        "data150['rating'].value_counts()"
      ],
      "execution_count": 12,
      "outputs": [
        {
          "output_type": "execute_result",
          "data": {
            "text/plain": [
              "bad        71928\n",
              "neutral    46765\n",
              "good       32237\n",
              "Name: rating, dtype: int64"
            ]
          },
          "metadata": {
            "tags": []
          },
          "execution_count": 12
        }
      ]
    },
    {
      "cell_type": "code",
      "metadata": {
        "id": "fuIXbV4d3Tfi",
        "colab_type": "code",
        "outputId": "68d6132f-e304-4381-895f-4c924605e4a1",
        "colab": {
          "base_uri": "https://localhost:8080/",
          "height": 296
        }
      },
      "source": [
        "plt.scatter(data150['price'],data150['points'])\n",
        "plt.xlabel('price')\n",
        "plt.ylabel('points')"
      ],
      "execution_count": 13,
      "outputs": [
        {
          "output_type": "execute_result",
          "data": {
            "text/plain": [
              "Text(0, 0.5, 'points')"
            ]
          },
          "metadata": {
            "tags": []
          },
          "execution_count": 13
        },
        {
          "output_type": "display_data",
          "data": {
            "image/png": "[encoded data removed]",
            "text/plain": [
              "<Figure size 432x288 with 1 Axes>"
            ]
          },
          "metadata": {
            "tags": []
          }
        }
      ]
    },
    {
      "cell_type": "code",
      "metadata": {
        "id": "j0fbFn4X3Tfk",
        "colab_type": "code",
        "outputId": "99ae62e0-9a7b-49a2-ad05-904ed7952098",
        "colab": {
          "base_uri": "https://localhost:8080/",
          "height": 433
        }
      },
      "source": [
        "country_points = data150.groupby('country').mean()['points'].sort_values(ascending = False).dropna()\n",
        "print(country_points.head(10))\n",
        "print(country_points.tail(10))"
      ],
      "execution_count": 14,
      "outputs": [
        {
          "output_type": "stream",
          "text": [
            "country\n",
            "England     92.888889\n",
            "Austria     89.276742\n",
            "France      88.925870\n",
            "Germany     88.626427\n",
            "Italy       88.413664\n",
            "Canada      88.239796\n",
            "Slovenia    88.234043\n",
            "Morocco     88.166667\n",
            "Turkey      88.096154\n",
            "Portugal    88.057685\n",
            "Name: points, dtype: float64\n",
            "country\n",
            "Moldova        84.718310\n",
            "Ukraine        84.600000\n",
            "Uruguay        84.478261\n",
            "Lithuania      84.250000\n",
            "Egypt          83.666667\n",
            "Slovakia       83.666667\n",
            "Brazil         83.240000\n",
            "China          82.000000\n",
            "Montenegro     82.000000\n",
            "South Korea    81.500000\n",
            "Name: points, dtype: float64\n"
          ],
          "name": "stdout"
        }
      ]
    },
    {
      "cell_type": "code",
      "metadata": {
        "id": "vNmcweoh3Tfm",
        "colab_type": "code",
        "outputId": "7daf70e3-f3ac-48e1-ac8e-0c908e235988",
        "colab": {
          "base_uri": "https://localhost:8080/",
          "height": 433
        }
      },
      "source": [
        "country_price = data150.groupby('country').mean()['price'].sort_values(ascending = False).dropna()\n",
        "print(country_price.head(10))\n",
        "print(country_price.tail(10))"
      ],
      "execution_count": 15,
      "outputs": [
        {
          "output_type": "stream",
          "text": [
            "country\n",
            "US-France     50.000000\n",
            "England       47.500000\n",
            "France        45.619885\n",
            "Hungary       44.204348\n",
            "Luxembourg    40.666667\n",
            "Germany       39.011078\n",
            "Italy         37.547913\n",
            "Canada        34.628866\n",
            "US            33.653808\n",
            "Israel        31.304918\n",
            "Name: price, dtype: float64\n",
            "country\n",
            "Moldova                   15.366197\n",
            "Slovakia                  15.333333\n",
            "Macedonia                 15.312500\n",
            "India                     13.875000\n",
            "South Korea               13.500000\n",
            "Ukraine                   13.000000\n",
            "Bosnia and Herzegovina    12.750000\n",
            "Bulgaria                  11.545455\n",
            "Lithuania                 10.000000\n",
            "Montenegro                10.000000\n",
            "Name: price, dtype: float64\n"
          ],
          "name": "stdout"
        }
      ]
    },
    {
      "cell_type": "code",
      "metadata": {
        "id": "ReIQKOlF3Tfo",
        "colab_type": "code",
        "outputId": "da710700-6757-4795-f3e5-76b8ceb8f514",
        "colab": {
          "base_uri": "https://localhost:8080/",
          "height": 485
        }
      },
      "source": [
        "print('High value wines')\n",
        "display((country_points/country_price).sort_values(ascending = False).head(10))\n",
        "print('\\nLower value wines')\n",
        "display((country_points/country_price).sort_values(ascending = False).dropna().tail(10))"
      ],
      "execution_count": 16,
      "outputs": [
        {
          "output_type": "stream",
          "text": [
            "High value wines\n"
          ],
          "name": "stdout"
        },
        {
          "output_type": "display_data",
          "data": {
            "text/plain": [
              "country\n",
              "Lithuania                 8.425000\n",
              "Montenegro                8.200000\n",
              "Bulgaria                  7.402700\n",
              "Bosnia and Herzegovina    6.647059\n",
              "Ukraine                   6.507692\n",
              "India                     6.315315\n",
              "South Korea               6.037037\n",
              "Cyprus                    5.545833\n",
              "Macedonia                 5.538776\n",
              "Moldova                   5.513291\n",
              "dtype: float64"
            ]
          },
          "metadata": {
            "tags": []
          }
        },
        {
          "output_type": "stream",
          "text": [
            "\n",
            "Lower value wines\n"
          ],
          "name": "stdout"
        },
        {
          "output_type": "display_data",
          "data": {
            "text/plain": [
              "country\n",
              "Israel        2.784744\n",
              "US            2.609476\n",
              "Canada        2.548157\n",
              "Italy         2.354689\n",
              "Germany       2.271827\n",
              "Luxembourg    2.139344\n",
              "Hungary       1.975575\n",
              "England       1.955556\n",
              "France        1.949279\n",
              "US-France     1.760000\n",
              "dtype: float64"
            ]
          },
          "metadata": {
            "tags": []
          }
        }
      ]
    },
    {
      "cell_type": "markdown",
      "metadata": {
        "id": "r4yeCbMd4-Qm",
        "colab_type": "text"
      },
      "source": [
        "# Descriptipon 1"
      ]
    },
    {
      "cell_type": "code",
      "metadata": {
        "id": "KRaBx7bE3Tfp",
        "colab_type": "code",
        "outputId": "7c544162-028e-4e19-df31-e0eda3fde054",
        "colab": {
          "base_uri": "https://localhost:8080/",
          "height": 225
        }
      },
      "source": [
        "words = data150[['description','points']]\n",
        "words['description'] = words['description'].str.split(' ')\n",
        "words['length'] = words['description'].map(lambda x: len(x))"
      ],
      "execution_count": 17,
      "outputs": [
        {
          "output_type": "stream",
          "text": [
            "/usr/local/lib/python3.6/dist-packages/ipykernel_launcher.py:2: SettingWithCopyWarning: \n",
            "A value is trying to be set on a copy of a slice from a DataFrame.\n",
            "Try using .loc[row_indexer,col_indexer] = value instead\n",
            "\n",
            "See the caveats in the documentation: http://pandas.pydata.org/pandas-docs/stable/user_guide/indexing.html#returning-a-view-versus-a-copy\n",
            "  \n",
            "/usr/local/lib/python3.6/dist-packages/ipykernel_launcher.py:3: SettingWithCopyWarning: \n",
            "A value is trying to be set on a copy of a slice from a DataFrame.\n",
            "Try using .loc[row_indexer,col_indexer] = value instead\n",
            "\n",
            "See the caveats in the documentation: http://pandas.pydata.org/pandas-docs/stable/user_guide/indexing.html#returning-a-view-versus-a-copy\n",
            "  This is separate from the ipykernel package so we can avoid doing imports until\n"
          ],
          "name": "stderr"
        }
      ]
    },
    {
      "cell_type": "code",
      "metadata": {
        "id": "pPS5d9ri3Tfr",
        "colab_type": "code",
        "outputId": "3d73daeb-7655-4223-a386-a55a61b15704",
        "colab": {
          "base_uri": "https://localhost:8080/",
          "height": 225
        }
      },
      "source": [
        "words['length'].value_counts()"
      ],
      "execution_count": 18,
      "outputs": [
        {
          "output_type": "execute_result",
          "data": {
            "text/plain": [
              "38     5644\n",
              "39     5587\n",
              "37     5504\n",
              "36     5421\n",
              "41     5358\n",
              "       ... \n",
              "112       1\n",
              "109       1\n",
              "102       1\n",
              "101       1\n",
              "127       1\n",
              "Name: length, Length: 113, dtype: int64"
            ]
          },
          "metadata": {
            "tags": []
          },
          "execution_count": 18
        }
      ]
    },
    {
      "cell_type": "code",
      "metadata": {
        "id": "BR8Ldmsb3Tft",
        "colab_type": "code",
        "outputId": "27b0240f-310a-4d8a-d0d5-a459af600842",
        "colab": {
          "base_uri": "https://localhost:8080/",
          "height": 296
        }
      },
      "source": [
        "plt.scatter(words['length'],words['points'])\n",
        "plt.xlabel('word count')\n",
        "plt.ylabel('points')"
      ],
      "execution_count": 19,
      "outputs": [
        {
          "output_type": "execute_result",
          "data": {
            "text/plain": [
              "Text(0, 0.5, 'points')"
            ]
          },
          "metadata": {
            "tags": []
          },
          "execution_count": 19
        },
        {
          "output_type": "display_data",
          "data": {
            "image/png": "[encoded data removed]",
            "text/plain": [
              "<Figure size 432x288 with 1 Axes>"
            ]
          },
          "metadata": {
            "tags": []
          }
        }
      ]
    },
    {
      "cell_type": "code",
      "metadata": {
        "id": "8PYpphtm3Tfu",
        "colab_type": "code",
        "outputId": "bf1dff57-a9d8-4ece-ffa3-1c1194345f8a",
        "colab": {
          "base_uri": "https://localhost:8080/",
          "height": 225
        }
      },
      "source": [
        "pd.Series(' '.join(data150['description']).lower().split()).value_counts()[:100]"
      ],
      "execution_count": 20,
      "outputs": [
        {
          "output_type": "execute_result",
          "data": {
            "text/plain": [
              "and          404610\n",
              "the          258167\n",
              "a            215292\n",
              "of           184062\n",
              "with         152210\n",
              "              ...  \n",
              "you            7290\n",
              "up             7240\n",
              "little         7178\n",
              "chocolate      7121\n",
              "than           7084\n",
              "Length: 100, dtype: int64"
            ]
          },
          "metadata": {
            "tags": []
          },
          "execution_count": 20
        }
      ]
    },
    {
      "cell_type": "markdown",
      "metadata": {
        "id": "D6ZyRIfY5Vuz",
        "colab_type": "text"
      },
      "source": [
        "# NLTK"
      ]
    },
    {
      "cell_type": "code",
      "metadata": {
        "id": "Zg-wvGPq3Tfx",
        "colab_type": "code",
        "outputId": "2ae16330-dba1-4095-ff2d-41c59bab0fba",
        "colab": {
          "base_uri": "https://localhost:8080/",
          "height": 121
        }
      },
      "source": [
        "!pip install nltk\n",
        "\n",
        "import re\n",
        "import nltk\n",
        "\n",
        "nltk.download('stopwords')\n",
        "nltk.download('punkt')\n",
        "\n",
        "from nltk.corpus import stopwords\n",
        "from nltk.tokenize import word_tokenize\n",
        "import string\n",
        "\n",
        "word_input = data150['description']\n",
        "\n",
        "def preprocess(s):\n",
        "    s = re.sub(r'\\d+', '', s)\n",
        "    return re.sub(r'[^\\w\\s]', '', s).strip().lower()\n",
        "\n",
        "def tokenize(s):\n",
        "    stop_words = set(stopwords.words('english'))\n",
        "    tokens = word_tokenize(s)\n",
        "    result = [i for i in tokens if not i in stop_words]\n",
        "    return result\n",
        "\n",
        "word_result = word_input.map(preprocess)\n",
        "word_result = word_result.map(tokenize)\n",
        "\n",
        "\n",
        "# result = [i for i in tokens if not i in stop_words]\n",
        "# print (result)"
      ],
      "execution_count": 21,
      "outputs": [
        {
          "output_type": "stream",
          "text": [
            "Requirement already satisfied: nltk in /usr/local/lib/python3.6/dist-packages (3.2.5)\n",
            "Requirement already satisfied: six in /usr/local/lib/python3.6/dist-packages (from nltk) (1.12.0)\n",
            "[nltk_data] Downloading package stopwords to /root/nltk_data...\n",
            "[nltk_data]   Unzipping corpora/stopwords.zip.\n",
            "[nltk_data] Downloading package punkt to /root/nltk_data...\n",
            "[nltk_data]   Unzipping tokenizers/punkt.zip.\n"
          ],
          "name": "stdout"
        }
      ]
    },
    {
      "cell_type": "code",
      "metadata": {
        "id": "Jt6R1uAQ3Tfz",
        "colab_type": "code",
        "outputId": "8c9e9e89-7115-4531-b744-6386d8dc3440",
        "colab": {
          "base_uri": "https://localhost:8080/",
          "height": 225
        }
      },
      "source": [
        "word_result"
      ],
      "execution_count": 22,
      "outputs": [
        {
          "output_type": "execute_result",
          "data": {
            "text/plain": [
              "0         [tremendous, varietal, wine, hails, oakville, ...\n",
              "1         [ripe, aromas, fig, blackberry, cassis, soften...\n",
              "2         [mac, watson, honors, memory, wine, made, moth...\n",
              "3         [spent, months, new, french, oak, incorporates...\n",
              "4         [top, wine, la, bégude, named, highest, point,...\n",
              "                                ...                        \n",
              "150925    [many, people, feel, fiano, represents, southe...\n",
              "150926    [offers, intriguing, nose, ginger, lime, flora...\n",
              "150927    [classic, example, comes, cru, vineyard, calle...\n",
              "150928    [perfect, salmon, shade, scents, peaches, cher...\n",
              "150929    [pinot, grigios, taste, like, rich, pearlike, ...\n",
              "Name: description, Length: 150930, dtype: object"
            ]
          },
          "metadata": {
            "tags": []
          },
          "execution_count": 22
        }
      ]
    },
    {
      "cell_type": "code",
      "metadata": {
        "id": "6J57RDlEufpF",
        "colab_type": "code",
        "outputId": "530303b8-a9e8-4ca4-8a85-cac1bc54a9fa",
        "colab": {
          "base_uri": "https://localhost:8080/",
          "height": 296
        }
      },
      "source": [
        "len_wr = word_result.map(lambda x: len(x))\n",
        "plt.scatter(len_wr,words['points'])\n",
        "plt.xlabel('word count')\n",
        "plt.ylabel('points')"
      ],
      "execution_count": 23,
      "outputs": [
        {
          "output_type": "execute_result",
          "data": {
            "text/plain": [
              "Text(0, 0.5, 'points')"
            ]
          },
          "metadata": {
            "tags": []
          },
          "execution_count": 23
        },
        {
          "output_type": "display_data",
          "data": {
            "image/png": "[encoded data removed]",
            "text/plain": [
              "<Figure size 432x288 with 1 Axes>"
            ]
          },
          "metadata": {
            "tags": []
          }
        }
      ]
    },
    {
      "cell_type": "code",
      "metadata": {
        "id": "qDBLjaSr3Tf2",
        "colab_type": "code",
        "colab": {}
      },
      "source": [
        "from collections import Counter\n",
        "\n",
        "s = pd.Series(Counter([y for x in word_result for y in x]))"
      ],
      "execution_count": 0,
      "outputs": []
    },
    {
      "cell_type": "code",
      "metadata": {
        "id": "NSID5yXq3Tf4",
        "colab_type": "code",
        "outputId": "c0089bcb-1ef0-4d3a-8ddf-e07895cccbe8",
        "colab": {
          "base_uri": "https://localhost:8080/",
          "height": 310
        }
      },
      "source": [
        "s.sort_values(ascending = False).head(20).plot(kind = 'bar')"
      ],
      "execution_count": 25,
      "outputs": [
        {
          "output_type": "execute_result",
          "data": {
            "text/plain": [
              "<matplotlib.axes._subplots.AxesSubplot at 0x7fd8868c9f28>"
            ]
          },
          "metadata": {
            "tags": []
          },
          "execution_count": 25
        },
        {
          "output_type": "display_data",
          "data": {
            "image/png": "[encoded data removed]",
            "text/plain": [
              "<Figure size 432x288 with 1 Axes>"
            ]
          },
          "metadata": {
            "tags": []
          }
        }
      ]
    },
    {
      "cell_type": "code",
      "metadata": {
        "id": "FO3J7ZU23Tf5",
        "colab_type": "code",
        "outputId": "b8feb121-2816-416b-8404-69ba6e4209f4",
        "colab": {
          "base_uri": "https://localhost:8080/",
          "height": 34
        }
      },
      "source": [
        "#mask = word_result.map(lambda x: 'fruit' in x)\n",
        "#data150[mask].points.mean()\n",
        "\n",
        "data150[word_result.map(lambda x: 'tannins' in x)].points.mean()"
      ],
      "execution_count": 26,
      "outputs": [
        {
          "output_type": "execute_result",
          "data": {
            "text/plain": [
              "88.84002054310842"
            ]
          },
          "metadata": {
            "tags": []
          },
          "execution_count": 26
        }
      ]
    },
    {
      "cell_type": "code",
      "metadata": {
        "id": "QROypc9q3Tf7",
        "colab_type": "code",
        "colab": {}
      },
      "source": [
        "processed_features = []\n",
        "features = word_input\n",
        "for sentence in range(0, len(features)):\n",
        "    # Remove all the special characters\n",
        "    processed_feature = re.sub(r'\\W', ' ', str(features[sentence]))\n",
        "\n",
        "    # remove all single characters\n",
        "    processed_feature= re.sub(r'\\s+[a-zA-Z]\\s+', ' ', processed_feature)\n",
        "\n",
        "    # Remove single characters from the start\n",
        "    processed_feature = re.sub(r'\\^[a-zA-Z]\\s+', ' ', processed_feature) \n",
        "\n",
        "    # Substituting multiple spaces with single space\n",
        "    processed_feature = re.sub(r'\\s+', ' ', processed_feature, flags=re.I)\n",
        "\n",
        "    # Removing prefixed 'b'\n",
        "    processed_feature = re.sub(r'^b\\s+', '', processed_feature)\n",
        "\n",
        "    # Converting to Lowercase\n",
        "    processed_feature = processed_feature.lower()\n",
        "\n",
        "    processed_features.append(processed_feature)\n",
        "    \n"
      ],
      "execution_count": 0,
      "outputs": []
    },
    {
      "cell_type": "code",
      "metadata": {
        "id": "W3A_qjR-3Tf9",
        "colab_type": "code",
        "colab": {}
      },
      "source": [
        "from nltk.corpus import stopwords\n",
        "from sklearn.feature_extraction.text import TfidfVectorizer\n",
        "from sklearn.model_selection import train_test_split\n",
        "labels = data150['rating']\n",
        "\n",
        "X_train, X_test, y_train, y_test = train_test_split(processed_features, labels, test_size=0.2, random_state=0)\n",
        "\n",
        "#vectorizer = TfidfVectorizer (max_features=500, min_df=5, max_df=0.8, stop_words=stopwords.words('english'))\n",
        "vectorizer= TfidfVectorizer (max_features = 600, min_df = 5, max_df = 0.8, ngram_range=(1, 2), stop_words=stopwords.words('english'))\n",
        "\n",
        "features_train = vectorizer.fit_transform(X_train).toarray()\n",
        "features_test = vectorizer.fit_transform(X_test).toarray()\n"
      ],
      "execution_count": 0,
      "outputs": []
    },
    {
      "cell_type": "code",
      "metadata": {
        "id": "L68Ek3Xt3TgA",
        "colab_type": "code",
        "colab": {}
      },
      "source": [
        "from sklearn.ensemble import RandomForestClassifier\n",
        "\n",
        "text_classifier = RandomForestClassifier(n_estimators=300, random_state=0)\n",
        "#text_classifier = RandomForestClassifier(n_estimators=200, random_state=0)\n",
        "text_classifier.fit(features_train, y_train)\n",
        "\n",
        "predictions = text_classifier.predict(features_test)"
      ],
      "execution_count": 0,
      "outputs": []
    },
    {
      "cell_type": "code",
      "metadata": {
        "id": "pcUp2J2c3TgB",
        "colab_type": "code",
        "outputId": "13e347d0-bdbf-4191-cb97-62c5f40b5754",
        "colab": {
          "base_uri": "https://localhost:8080/",
          "height": 259
        }
      },
      "source": [
        "\n",
        "from sklearn.metrics import classification_report, confusion_matrix, accuracy_score\n",
        "\n",
        "print(confusion_matrix(y_test,predictions))\n",
        "print(classification_report(y_test,predictions))\n",
        "print(accuracy_score(y_test, predictions))"
      ],
      "execution_count": 46,
      "outputs": [
        {
          "output_type": "stream",
          "text": [
            "[[10354  1255  2754]\n",
            " [ 3185  1238  2052]\n",
            " [ 5562  1084  2702]]\n",
            "              precision    recall  f1-score   support\n",
            "\n",
            "         bad       0.54      0.72      0.62     14363\n",
            "        good       0.35      0.19      0.25      6475\n",
            "     neutral       0.36      0.29      0.32      9348\n",
            "\n",
            "    accuracy                           0.47     30186\n",
            "   macro avg       0.42      0.40      0.40     30186\n",
            "weighted avg       0.44      0.47      0.45     30186\n",
            "\n",
            "0.4735307758563573\n"
          ],
          "name": "stdout"
        }
      ]
    },
    {
      "cell_type": "code",
      "metadata": {
        "id": "2fTJRsYpQroa",
        "colab_type": "code",
        "colab": {
          "base_uri": "https://localhost:8080/",
          "height": 259
        },
        "outputId": "953885e3-3eb3-4d79-a57b-b92e9024671c"
      },
      "source": [
        "from sklearn.naive_bayes import MultinomialNB\n",
        "\n",
        "naive_classifier = MultinomialNB()\n",
        "naive_classifier.fit(features_train, y_train)\n",
        "n_predictions = naive_classifier.predict(features_test)\n",
        "\n",
        "print(confusion_matrix(y_test,n_predictions))\n",
        "print(classification_report(y_test,n_predictions))\n",
        "print(accuracy_score(y_test, n_predictions))"
      ],
      "execution_count": 47,
      "outputs": [
        {
          "output_type": "stream",
          "text": [
            "[[10535   244  3584]\n",
            " [ 3099   336  3040]\n",
            " [ 5786   212  3350]]\n",
            "              precision    recall  f1-score   support\n",
            "\n",
            "         bad       0.54      0.73      0.62     14363\n",
            "        good       0.42      0.05      0.09      6475\n",
            "     neutral       0.34      0.36      0.35      9348\n",
            "\n",
            "    accuracy                           0.47     30186\n",
            "   macro avg       0.43      0.38      0.35     30186\n",
            "weighted avg       0.45      0.47      0.42     30186\n",
            "\n",
            "0.4711124362287153\n"
          ],
          "name": "stdout"
        }
      ]
    },
    {
      "cell_type": "code",
      "metadata": {
        "id": "OgVE7ThYvNnA",
        "colab_type": "code",
        "colab": {}
      },
      "source": [
        "# labels2 = data150['price']\n",
        "# X_train, X_test, y_train, y_test = train_test_split(processed_features, labels2, test_size=0.2, random_state=0)\n",
        "# vectorizer = TfidfVectorizer (max_features=500, min_df=5, max_df=0.8, stop_words=stopwords.words('english'))\n",
        "# features_train = vectorizer.fit_transform(X_train).toarray()\n",
        "# features_test = vectorizer.fit_transform(X_test).toarray()\n",
        "\n",
        "# text_classifier2 = RandomForestClassifier(n_estimators=200, random_state=0)\n",
        "# text_classifier2.fit(features_train, y_train)\n",
        "# predictions2 = text_classifier.predict(features_test)"
      ],
      "execution_count": 0,
      "outputs": []
    },
    {
      "cell_type": "code",
      "metadata": {
        "id": "84Vfhm9vyrct",
        "colab_type": "code",
        "colab": {}
      },
      "source": [
        "# print(confusion_matrix(y_test,predictions2))\n",
        "# print(classification_report(y_test,predictions2))\n",
        "# print(accuracy_score(y_test, predictions2))"
      ],
      "execution_count": 0,
      "outputs": []
    }
  ]
}